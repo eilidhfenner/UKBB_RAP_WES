{
 "cells": [
  {
   "cell_type": "markdown",
   "id": "496bb7b3-0341-4cb5-8dc5-d6eb674fc9a8",
   "metadata": {
    "tags": []
   },
   "source": [
    "# 11: Count qualifying variants per gene\n",
    "This script counts the burden of qualifying variants (you select this definition) per gene for each sample and writes out a table of this burden across all genes in a chromosome. This script was run using a mem2_ss2_v2_x8 instance with 20 nodes, and took ~7 hours. It cost a total of £35.\n",
    "\n",
    "## Set up environment\n",
    "Make sure you run this block only once. You'll get errors if you try to initialise Hail multiple times. If you do do this, you'll need to restart the kernel, and then initialise Hail only once. "
   ]
  },
  {
   "cell_type": "code",
   "execution_count": 1,
   "id": "fd7d3f87-edaa-4750-8dd4-afdda4674af8",
   "metadata": {
    "tags": []
   },
   "outputs": [
    {
     "name": "stderr",
     "output_type": "stream",
     "text": [
      "pip-installed Hail requires additional configuration options in Spark referring\n",
      "  to the path to the Hail Python module directory HAIL_DIR,\n",
      "  e.g. /path/to/python/site-packages/hail:\n",
      "    spark.jars=HAIL_DIR/backend/hail-all-spark.jar\n",
      "    spark.driver.extraClassPath=HAIL_DIR/backend/hail-all-spark.jar\n",
      "    spark.executor.extraClassPath=./hail-all-spark.jarRunning on Apache Spark version 3.2.3\n",
      "SparkUI available at http://ip-10-60-98-61.eu-west-2.compute.internal:8081\n",
      "Welcome to\n",
      "     __  __     <>__\n",
      "    / /_/ /__  __/ /\n",
      "   / __  / _ `/ / /\n",
      "  /_/ /_/\\_,_/_/_/   version 0.2.116-cd64e0876c94\n",
      "LOGGING: writing to /opt/notebooks/hail-20250113-0947-0.2.116-cd64e0876c94.log\n"
     ]
    }
   ],
   "source": [
    "# Initialise hail and spark logs? Running this cell will output a red-colored message- this is expected.\n",
    "# The 'Welcome to Hail' message in the output will indicate that Hail is ready to use in the notebook.\n",
    "import pyspark.sql\n",
    "\n",
    "config = pyspark.SparkConf().setAll([('spark.kryoserializer.buffer.max', '128')])\n",
    "sc = pyspark.SparkContext(conf=config) \n",
    "\n",
    "from pyspark.sql import SparkSession\n",
    "\n",
    "import hail as hl\n",
    "builder = (\n",
    "    SparkSession\n",
    "    .builder\n",
    "    .enableHiveSupport()\n",
    ")\n",
    "spark = builder.getOrCreate()\n",
    "hl.init(sc=sc)\n",
    "\n",
    "import dxpy"
   ]
  },
  {
   "cell_type": "markdown",
   "id": "47e04f23-ffe2-4dee-a000-e2bdfb8d5192",
   "metadata": {},
   "source": [
    "## AC<=5 counts\n",
    "\n",
    "This script loops over each chromosome and reads in the QC'd and annotated matrix tables. It then counts the number of alternate alleles fitting each class carried by each individual, and writes this out on a per gene basis. The stages this script runs are as follows: \n",
    "- PREP MT: Reads in matrix table from stage 10, filters to only keep variants with a MAC of 5 or less, and then writes the outputted mt out to speed up downstream processing. \n",
    "- COUNTS:\n",
    "    - All rare variants: Counts rare variants of any annotation carried per gene per person and writes out counts as a .tsv file \n",
    "    - PTVs: Counts rare PTVs carried per person per gene and writes out as a .tsv file\n",
    "    - Deleterious missense variants: Counts rare deleterious missense variants carried per person per gene and writes out as a .tsv file\n",
    "    - Synonymous variants: Counts rare synonymous variants carried per person per gene and writes out as a .tsv file\n"
   ]
  },
  {
   "cell_type": "code",
   "execution_count": null,
   "id": "6af9d78c-00ef-47c6-b40e-c121b904a118",
   "metadata": {
    "tags": []
   },
   "outputs": [
    {
     "name": "stdout",
     "output_type": "stream",
     "text": [
      "Processing chromosome 21...\n",
      "AC filter set as <=5\n"
     ]
    },
    {
     "name": "stderr",
     "output_type": "stream",
     "text": [
      "2025-01-09 13:59:08.634 Hail: INFO: wrote matrix table with 158235 rows and 399877 columns in 388 partitions to AC5orless_chr_21.mt\n"
     ]
    },
    {
     "name": "stdout",
     "output_type": "stream",
     "text": [
      "AC<5 counts for chr 21 done...\n"
     ]
    },
    {
     "name": "stderr",
     "output_type": "stream",
     "text": [
      "2025-01-09 13:59:53.739 Hail: INFO: Ordering unsorted dataset with network shuffle\n",
      "2025-01-09 14:01:07.818 Hail: INFO: merging 1 files totalling 186.9M...\n",
      "2025-01-09 14:01:08.677 Hail: INFO: while writing:\n",
      "    chr_21_PTV_AC5orless_gene_counts.tsv\n",
      "  merge time: 858.288ms\n"
     ]
    },
    {
     "name": "stdout",
     "output_type": "stream",
     "text": [
      "PTV AC<=5 counts for chr 21 written out as chr_21_PTV_AC5orless_gene_counts.tsv\n",
      "Dont forget to copy these tables up to your project before closing the session!!\n",
      "REVEL >0.75 missense AC<=5 counts for chr 21 done...\n"
     ]
    },
    {
     "name": "stderr",
     "output_type": "stream",
     "text": [
      "2025-01-09 14:01:51.895 Hail: INFO: Ordering unsorted dataset with network shuffle\n",
      "2025-01-09 14:03:02.679 Hail: INFO: merging 1 files totalling 186.9M...\n",
      "2025-01-09 14:03:03.302 Hail: INFO: while writing:\n",
      "    chr_21_REVEL75_Miss_AC5orless_gene_counts.tsv\n",
      "  merge time: 622.617ms\n"
     ]
    },
    {
     "name": "stdout",
     "output_type": "stream",
     "text": [
      "REVEL >0.75 missense AC<=5 counts for chr 21 written out as chr_21_REVEL75_Miss_AC5orless_gene_counts.tsv\n",
      "Dont forget to copy these tables up to your project before closing the session!!\n",
      "REVEL 0.75-0.5 missense AC<=5 counts for chr 21 done...\n"
     ]
    },
    {
     "name": "stderr",
     "output_type": "stream",
     "text": [
      "2025-01-09 14:03:50.680 Hail: INFO: Ordering unsorted dataset with network shuffle\n",
      "2025-01-09 14:05:06.344 Hail: INFO: merging 1 files totalling 186.9M...\n",
      "2025-01-09 14:05:06.898 Hail: INFO: while writing:\n",
      "    chr_21_REVEL75to50_Miss_AC5orless_gene_counts.tsv\n",
      "  merge time: 553.660ms\n"
     ]
    },
    {
     "name": "stdout",
     "output_type": "stream",
     "text": [
      "REVEL 0.75-0.5 missense AC<=5 counts for chr 21 written out as chr_21_REVEL75to50_Miss_AC5orless_gene_counts.tsv\n",
      "Dont forget to copy these tables up to your project before closing the session!!\n",
      "REVEL <=0.5 missense AC<=5 counts for chr 21 done...\n"
     ]
    },
    {
     "name": "stderr",
     "output_type": "stream",
     "text": [
      "2025-01-09 14:05:55.930 Hail: INFO: Ordering unsorted dataset with network shuffle\n",
      "2025-01-09 14:07:08.963 Hail: INFO: merging 1 files totalling 186.9M...\n",
      "2025-01-09 14:07:09.634 Hail: INFO: while writing:\n",
      "    chr_21_REVEL50orless_Miss_AC5orless_gene_counts.tsv\n",
      "  merge time: 671.283ms\n"
     ]
    },
    {
     "name": "stdout",
     "output_type": "stream",
     "text": [
      "REVEL <=0.5 missense AC<=5 counts for chr 21 written out as chr_21_REVEL50orless_Miss_AC5orless_gene_counts.tsv\n",
      "Dont forget to copy these tables up to your project before closing the session!!\n",
      "Synonymous AC<=5 counts for chr 21 done...\n"
     ]
    },
    {
     "name": "stderr",
     "output_type": "stream",
     "text": [
      "2025-01-09 14:07:51.626 Hail: INFO: Ordering unsorted dataset with network shuffle\n",
      "2025-01-09 14:09:01.414 Hail: INFO: merging 1 files totalling 186.9M...\n",
      "2025-01-09 14:09:01.964 Hail: INFO: while writing:\n",
      "    chr_21_synonymous_AC5orless_gene_counts.tsv\n",
      "  merge time: 549.882ms\n"
     ]
    },
    {
     "name": "stdout",
     "output_type": "stream",
     "text": [
      "Synonymous AC<=5 counts for 21 written out as chr_21_synonymous_AC5orless_gene_counts.tsv\n",
      "Dont forget to copy these tables up to your project before closing the session!!\n",
      "Finished processing chromosome 21!\n",
      "Processing chromosome 2...\n",
      "AC filter set as <=5\n"
     ]
    },
    {
     "name": "stderr",
     "output_type": "stream",
     "text": [
      "2025-01-09 14:12:21.157 Hail: INFO: wrote matrix table with 1100907 rows and 399877 columns in 2209 partitions to AC5orless_chr_2.mt\n"
     ]
    },
    {
     "name": "stdout",
     "output_type": "stream",
     "text": [
      "AC<5 counts for chr 2 done...\n"
     ]
    },
    {
     "name": "stderr",
     "output_type": "stream",
     "text": [
      "2025-01-09 14:15:26.882 Hail: INFO: Ordering unsorted dataset with network shuffle\n",
      "2025-01-09 14:20:50.048 Hail: INFO: merging 1 files totalling 1.1G...\n",
      "2025-01-09 14:20:53.351 Hail: INFO: while writing:\n",
      "    chr_2_PTV_AC5orless_gene_counts.tsv\n",
      "  merge time: 3.303s\n"
     ]
    },
    {
     "name": "stdout",
     "output_type": "stream",
     "text": [
      "PTV AC<=5 counts for chr 2 written out as chr_2_PTV_AC5orless_gene_counts.tsv\n",
      "Dont forget to copy these tables up to your project before closing the session!!\n",
      "REVEL >0.75 missense AC<=5 counts for chr 2 done...\n"
     ]
    },
    {
     "name": "stderr",
     "output_type": "stream",
     "text": [
      "2025-01-09 14:24:10.568 Hail: INFO: Ordering unsorted dataset with network shuffle\n",
      "2025-01-09 14:33:37.256 Hail: INFO: Ordering unsorted dataset with network shuffle\n",
      "2025-01-09 14:39:22.479 Hail: INFO: merging 1 files totalling 1.1G...\n",
      "2025-01-09 14:39:25.847 Hail: INFO: while writing:\n",
      "    chr_2_REVEL75to50_Miss_AC5orless_gene_counts.tsv\n",
      "  merge time: 3.368s\n"
     ]
    },
    {
     "name": "stdout",
     "output_type": "stream",
     "text": [
      "REVEL 0.75-0.5 missense AC<=5 counts for chr 2 written out as chr_2_REVEL75to50_Miss_AC5orless_gene_counts.tsv\n",
      "Dont forget to copy these tables up to your project before closing the session!!\n",
      "REVEL <=0.5 missense AC<=5 counts for chr 2 done...\n"
     ]
    },
    {
     "name": "stderr",
     "output_type": "stream",
     "text": [
      "2025-01-09 14:43:01.320 Hail: INFO: Ordering unsorted dataset with network shuffle\n",
      "2025-01-09 14:48:51.073 Hail: INFO: merging 1 files totalling 1.1G...\n",
      "2025-01-09 14:48:54.624 Hail: INFO: while writing:\n",
      "    chr_2_REVEL50orless_Miss_AC5orless_gene_counts.tsv\n",
      "  merge time: 3.551s\n"
     ]
    },
    {
     "name": "stdout",
     "output_type": "stream",
     "text": [
      "REVEL <=0.5 missense AC<=5 counts for chr 2 written out as chr_2_REVEL50orless_Miss_AC5orless_gene_counts.tsv\n",
      "Dont forget to copy these tables up to your project before closing the session!!\n",
      "Synonymous AC<=5 counts for chr 2 done...\n"
     ]
    },
    {
     "name": "stderr",
     "output_type": "stream",
     "text": [
      "2025-01-09 14:54:25.671 Hail: INFO: Ordering unsorted dataset with network shuffle\n",
      "2025-01-09 14:59:52.461 Hail: INFO: merging 1 files totalling 1.1G...\n"
     ]
    },
    {
     "name": "stdout",
     "output_type": "stream",
     "text": [
      "Synonymous AC<=5 counts for 2 written out as chr_2_synonymous_AC5orless_gene_counts.tsv\n",
      "Dont forget to copy these tables up to your project before closing the session!!\n",
      "Finished processing chromosome 2!\n"
     ]
    },
    {
     "name": "stderr",
     "output_type": "stream",
     "text": [
      "2025-01-09 14:59:55.702 Hail: INFO: while writing:\n",
      "    chr_2_synonymous_AC5orless_gene_counts.tsv\n",
      "  merge time: 3.241s\n"
     ]
    }
   ],
   "source": [
    "\n",
    "#Define the chromosomes you are working with\n",
    "chromosomes = list(range(1, 23)) #chr 1 is in 2 halves so needs to be proccessed separately (see code chunks below)!\n",
    "AC_filter=5\n",
    "\n",
    "for chr in chromosomes:\n",
    "    if chr == 1 :\n",
    "        # First half \n",
    "        print(f\"Processing chromosome {chr} first half...\")\n",
    "    \n",
    "\n",
    "        ####### PREP MT ######### \n",
    "        # Only do this the first time you're running counts - not needed at later stages as the count ready matrix table is written out, so can be read in for later counts. \n",
    "         # Read the matrix table for the current chromosome\n",
    "        mt=hl.read_matrix_table(\"dnax://database-Gq45XQjJ637Q9X6XJJJ3Pf7k/chr_1_first_half_ready_for_counts.mt\")\n",
    "        print(f'AC filter set as <={AC_filter}')\n",
    "        filtered_mt=mt.filter_rows(mt.variant_qc.AC[1]<= AC_filter)\n",
    "        filtered_mt.checkpoint(f'AC{AC_filter}orless_chr_{chr}_first_half.mt', overwrite=True)\n",
    "\n",
    "\n",
    "        ####### COUNTS ########\n",
    "        # All rare variants\n",
    "        filtered_mt=hl.read_matrix_table(f'AC{AC_filter}orless_chr_{chr}.mt')\n",
    "        PTV_var = (filtered_mt\n",
    "           .group_rows_by(gene_id=filtered_mt.gene_id_worstCsq)\n",
    "           .aggregate(\n",
    "               n= hl.agg.filter(\n",
    "                   (filtered_mt.GT.is_non_ref()),\n",
    "                   hl.agg.sum(filtered_mt.GT.n_alt_alleles()))))\n",
    "        print(f'AC<{AC_filter} counts for chr {chr} done...')\n",
    "        PTV_var.n.export(f\"chr_{chr}_AC{AC_filter}orless_gene_counts.tsv\")\n",
    "        print(f'Any variant class AC<={AC_filter} counts for chr {chr} written out as chr_{chr}_AC{AC_filter}orless_gene_counts.tsv')\n",
    "        print('Dont forget to copy these tables up to your project before closing the session!!')\n",
    "\n",
    "        # PTVs\n",
    "        filtered_mt=hl.read_matrix_table(f'AC{AC_filter}orless_chr_{chr}_first_half.mt')\n",
    "        PTV_var = (filtered_mt\n",
    "           .group_rows_by(gene_id=filtered_mt.gene_id_worstCsq)\n",
    "           .aggregate(\n",
    "               n= hl.agg.filter(\n",
    "                   (filtered_mt.LoF_worstCsq==True)& \n",
    "                   (filtered_mt.GT.is_non_ref()),\n",
    "                   hl.agg.sum(filtered_mt.GT.n_alt_alleles()))))\n",
    "        print(f'AC<{AC_filter} counts for chr {chr} first half done...')\n",
    "        PTV_var.n.export(f\"chr_{chr}_first_half_PTV_AC{AC_filter}orless_gene_counts.tsv\")\n",
    "        print(f'PTV AC<={AC_filter} counts for chr {chr} first half written out as chr_{chr}_first_half_PTV_AC{AC_filter}orless_gene_counts.tsv')\n",
    "        print('Dont forget to copy these tables up to your project before closing the session!!')\n",
    "    \n",
    "        # Deleterious missense variants \n",
    "        filtered_mt=hl.read_matrix_table(f'AC{AC_filter}orless_chr_{chr}_first_half.mt') # Read back in here as it speeds up process. Checkpoint command is suposed to read back in but doesn't seem to be?\n",
    "        Revel75_miss_var=(filtered_mt\n",
    "             .group_rows_by(gene_id=filtered_mt.gene_id_worstCsq)\n",
    "             .aggregate(\n",
    "                 n = hl.agg.filter(\n",
    "                     (filtered_mt.Miss_worstCsq == True)& \n",
    "                     (filtered_mt.REVEL_score> 0.75),\n",
    "                     hl.agg.sum(filtered_mt.GT.n_alt_alleles()))))\n",
    "        print(f'REVEL >0.75 missense AC<={AC_filter} counts for chr {chr} first half done...')\n",
    "        Revel75_miss_var.n.export(f\"chr_{chr}_first_half_REVEL75_Miss_AC{AC_filter}orless_gene_counts.tsv\")\n",
    "        print(f'REVEL >0.75 missense AC<={AC_filter} counts for chr {chr} first half written out as chr_{chr}_first_half_REVEL75_Miss_AC{AC_filter}orless_gene_counts.tsv')\n",
    "        print('Dont forget to copy these tables up to your project before closing the session!!')\n",
    "\n",
    "    \n",
    "        # Synonymous variants \n",
    "        filtered_mt=hl.read_matrix_table(f'AC{AC_filter}orless_chr_{chr}_first_half.mt')\n",
    "        syn_var=(filtered_mt\n",
    "             .group_rows_by(gene_id=filtered_mt.gene_id_worstCsq)\n",
    "             .aggregate(\n",
    "                 n = hl.agg.filter(\n",
    "                     (filtered_mt.Syn_worstCsq == True),\n",
    "                     hl.agg.sum(filtered_mt.GT.n_alt_alleles()))))\n",
    "        print(f'Synonymous AC<={AC_filter} counts for chr {chr} first half done...')\n",
    "        syn_var.n.export(f\"chr_{chr}_first_half_synonymous_AC{AC_filter}orless_gene_counts.tsv\")\n",
    "        print(f'Synonymous AC<={AC_filter} counts for {chr} first half written out as chr_{chr}_first_half_synonymous_AC{AC_filter}orless_gene_counts.tsv')\n",
    "        print('Dont forget to copy these tables up to your project before closing the session!!')\n",
    "    \n",
    "        print(f\"Finished processing chromosome {chr} first half!\")\n",
    "    \n",
    "    \n",
    "        # Second half\n",
    "        print(f\"Processing chromosome {chr} second half...\")\n",
    "    \n",
    "        ####### PREP MT ######### \n",
    "        # Read the matrix table for the current chromosome\n",
    "        mt=hl.read_matrix_table(\"dnax://database-Gq45XQjJ637Q9X6XJJJ3Pf7k/chr_1_second_half_ready_for_counts.mt\")\n",
    "        print(f'AC filter set as <={AC_filter}')\n",
    "        filtered_mt=mt.filter_rows(mt.variant_qc.AC[1]<= AC_filter)\n",
    "        filtered_mt.checkpoint(f'AC{AC_filter}orless_chr_{chr}_second_half.mt', overwrite=True)\n",
    "\n",
    "\n",
    "        ###### COUNTS #######\n",
    "        # All rare variants\n",
    "        filtered_mt=hl.read_matrix_table(f'AC{AC_filter}orless_chr_{chr}.mt')\n",
    "        PTV_var = (filtered_mt\n",
    "           .group_rows_by(gene_id=filtered_mt.gene_id_worstCsq)\n",
    "           .aggregate(\n",
    "               n= hl.agg.filter(\n",
    "                   (filtered_mt.GT.is_non_ref()),\n",
    "                   hl.agg.sum(filtered_mt.GT.n_alt_alleles()))))\n",
    "        print(f'AC<{AC_filter} counts for chr {chr} done...')\n",
    "        PTV_var.n.export(f\"chr_{chr}_AC{AC_filter}orless_gene_counts.tsv\")\n",
    "        print(f'Any variant class AC<={AC_filter} counts for chr {chr} written out as chr_{chr}_AC{AC_filter}orless_gene_counts.tsv')\n",
    "        print('Dont forget to copy these tables up to your project before closing the session!!')\n",
    "\n",
    "        # PTVs \n",
    "        filtered_mt=hl.read_matrix_table(f'AC{AC_filter}orless_chr_{chr}_second_half.mt')\n",
    "        PTV_var = (filtered_mt\n",
    "           .group_rows_by(gene_id=filtered_mt.gene_id_worstCsq)\n",
    "           .aggregate(\n",
    "               n= hl.agg.filter(\n",
    "                   (filtered_mt.LoF_worstCsq==True)& \n",
    "                   (filtered_mt.GT.is_non_ref()),\n",
    "                   hl.agg.sum(filtered_mt.GT.n_alt_alleles()))))\n",
    "        print(f'AC<{AC_filter} counts for chr {chr} second half done...')\n",
    "        PTV_var.n.export(f\"chr_{chr}_second_half_PTV_AC{AC_filter}orless_gene_counts.tsv\")\n",
    "        print(f'PTV AC<={AC_filter} counts for chr {chr} second half written out as chr_{chr}_second_half_PTV_AC{AC_filter}orless_gene_counts.tsv')\n",
    "        print('Dont forget to copy these tables up to your project before closing the session!!')\n",
    "    \n",
    "        # Deleterious missense variants\n",
    "        filtered_mt=hl.read_matrix_table(f'AC{AC_filter}orless_chr_{chr}_second_half.mt') # Read back in here as it speeds up process. Checkpoint command is suposed to read back in but doesn't seem to be?\n",
    "        Revel75_miss_var=(filtered_mt\n",
    "             .group_rows_by(gene_id=filtered_mt.gene_id_worstCsq)\n",
    "             .aggregate(\n",
    "                 n = hl.agg.filter(\n",
    "                     (filtered_mt.Miss_worstCsq == True)& \n",
    "                     (filtered_mt.REVEL_score> 0.75),\n",
    "                     hl.agg.sum(filtered_mt.GT.n_alt_alleles()))))\n",
    "        print(f'REVEL >0.75 missense AC<={AC_filter} counts for chr {chr} second half done...')\n",
    "        Revel75_miss_var.n.export(f\"chr_{chr}_second_half_REVEL75_Miss_AC{AC_filter}orless_gene_counts.tsv\")\n",
    "        print(f'REVEL >0.75 missense AC<={AC_filter} counts for chr {chr} second half written out as chr_{chr}_second_half_REVEL75_Miss_AC{AC_filter}orless_gene_counts.tsv')\n",
    "        print('Dont forget to copy these tables up to your project before closing the session!!')\n",
    "    \n",
    "        # Count synonymous variants and write out\n",
    "        filtered_mt=hl.read_matrix_table(f'AC{AC_filter}orless_chr_{chr}_second_half.mt')\n",
    "        syn_var=(filtered_mt\n",
    "             .group_rows_by(gene_id=filtered_mt.gene_id_worstCsq)\n",
    "             .aggregate(\n",
    "                 n = hl.agg.filter(\n",
    "                     (filtered_mt.Syn_worstCsq == True),\n",
    "                     hl.agg.sum(filtered_mt.GT.n_alt_alleles()))))\n",
    "        print(f'Synonymous AC<={AC_filter} counts for chr {chr} second half done...')\n",
    "        syn_var.n.export(f\"chr_{chr}_second_half_synonymous_AC{AC_filter}orless_gene_counts.tsv\")\n",
    "        print(f'Synonymous AC<={AC_filter} counts for {chr} second half written out as chr_{chr}_second_half_synonymous_AC{AC_filter}orless_gene_counts.tsv')\n",
    "        print('Dont forget to copy these tables up to your project before closing the session!!')\n",
    "    \n",
    "        print(f\"Finished processing chromosome {chr} second half!\")\n",
    "        print(f\"Finished processing chromosome {chr}!\")\n",
    "\n",
    "    else:\n",
    "        print(f\"Processing chromosome {chr}...\")\n",
    "    \n",
    "        ######## PREP MT #########\n",
    "        # Read the matrix table for the current chromosome\n",
    "        mt=hl.read_matrix_table(f'dnax://database-Gq45XQjJ637Q9X6XJJJ3Pf7k/chr_{chr}_ready_for_counts.mt')\n",
    "        print(f'AC filter set as <={AC_filter}')\n",
    "        filtered_mt=mt.filter_rows(mt.variant_qc.AC[1]<= AC_filter)\n",
    "        filtered_mt.checkpoint(f'AC{AC_filter}orless_chr_{chr}.mt', overwrite=True)\n",
    "\n",
    "\n",
    "        ####### COUNTS ####### \n",
    "        # Any rare variant \n",
    "        filtered_mt=hl.read_matrix_table(f'AC{AC_filter}orless_chr_{chr}.mt')\n",
    "        PTV_var = (filtered_mt\n",
    "           .group_rows_by(gene_id=filtered_mt.gene_id_worstCsq)\n",
    "           .aggregate(\n",
    "               n= hl.agg.filter(\n",
    "                   (filtered_mt.GT.is_non_ref()),\n",
    "                   hl.agg.sum(filtered_mt.GT.n_alt_alleles()))))\n",
    "        print(f'AC<{AC_filter} counts for chr {chr} done...')\n",
    "        PTV_var.n.export(f\"chr_{chr}_AC{AC_filter}orless_gene_counts.tsv\")\n",
    "        print(f'Any variant class AC<={AC_filter} counts for chr {chr} written out as chr_{chr}_AC{AC_filter}orless_gene_counts.tsv')\n",
    "        print('Dont forget to copy these tables up to your project before closing the session!!')\n",
    "     \n",
    "        # PTVs\n",
    "        filtered_mt=hl.read_matrix_table(f'AC{AC_filter}orless_chr_{chr}.mt')\n",
    "        PTV_var = (filtered_mt\n",
    "           .group_rows_by(gene_id=filtered_mt.gene_id_worstCsq)\n",
    "           .aggregate(\n",
    "               n= hl.agg.filter(\n",
    "                   (filtered_mt.LoF_worstCsq==True)& \n",
    "                   (filtered_mt.GT.is_non_ref()),\n",
    "                   hl.agg.sum(filtered_mt.GT.n_alt_alleles()))))\n",
    "        print(f'AC<{AC_filter} counts for chr {chr} done...')\n",
    "        PTV_var.n.export(f\"chr_{chr}_PTV_AC{AC_filter}orless_gene_counts.tsv\")\n",
    "        print(f'PTV AC<={AC_filter} counts for chr {chr} written out as chr_{chr}_PTV_AC{AC_filter}orless_gene_counts.tsv')\n",
    "        print('Dont forget to copy these tables up to your project before closing the session!!')\n",
    "    \n",
    "        # Deleterious missense variants and write out\n",
    "        filtered_mt=hl.read_matrix_table(f'AC{AC_filter}orless_chr_{chr}.mt') # Read back in here as it speeds up process. Checkpoint command is suposed to read back in but doesn't seem to be?\n",
    "        Revel75_miss_var=(filtered_mt\n",
    "             .group_rows_by(gene_id=filtered_mt.gene_id_worstCsq)\n",
    "             .aggregate(\n",
    "                 n = hl.agg.filter(\n",
    "                     (filtered_mt.Miss_worstCsq == True)& \n",
    "                     (filtered_mt.REVEL_score> 0.75),\n",
    "                     hl.agg.sum(filtered_mt.GT.n_alt_alleles()))))\n",
    "        print(f'REVEL >0.75 missense AC<={AC_filter} counts for chr {chr} done...')\n",
    "        Revel75_miss_var.n.export(f\"chr_{chr}_REVEL75_Miss_AC{AC_filter}orless_gene_counts.tsv\")\n",
    "        print(f'REVEL >0.75 missense AC<={AC_filter} counts for chr {chr} written out as chr_{chr}_REVEL75_Miss_AC{AC_filter}orless_gene_counts.tsv')\n",
    "        print('Dont forget to copy these tables up to your project before closing the session!!')\n",
    "    \n",
    "        # Count synonymous variants and write out\n",
    "        filtered_mt=hl.read_matrix_table(f'AC{AC_filter}orless_chr_{chr}.mt')\n",
    "        syn_var=(filtered_mt\n",
    "             .group_rows_by(gene_id=filtered_mt.gene_id_worstCsq)\n",
    "             .aggregate(\n",
    "                 n = hl.agg.filter(\n",
    "                     (filtered_mt.Syn_worstCsq == True),\n",
    "                     hl.agg.sum(filtered_mt.GT.n_alt_alleles()))))\n",
    "        print(f'Synonymous AC<={AC_filter} counts for chr {chr} done...')\n",
    "        syn_var.n.export(f\"chr_{chr}_synonymous_AC{AC_filter}orless_gene_counts.tsv\")\n",
    "        print(f'Synonymous AC<={AC_filter} counts for {chr} written out as chr_{chr}_synonymous_AC{AC_filter}orless_gene_counts.tsv')\n",
    "        print('Dont forget to copy these tables up to your project before closing the session!!')\n",
    "    \n",
    "        print(f\"Finished processing chromosome {chr}!\")\n",
    "    "
   ]
  },
  {
   "cell_type": "markdown",
   "id": "1a8269f0-c069-4f65-a953-2827f55c2837",
   "metadata": {},
   "source": [
    "## Copy all tables up to your project! \n",
    "\n",
    "In the terminal make sure you run the following commands so this is saved up to your project.\n",
    "\n",
    "hdfs dfs -get *.tsv \n",
    "\n",
    "dx upload *.tsv "
   ]
  }
 ],
 "metadata": {
  "kernelspec": {
   "display_name": "Python 3 (ipykernel)",
   "language": "python",
   "name": "python3"
  },
  "language_info": {
   "codemirror_mode": {
    "name": "ipython",
    "version": 3
   },
   "file_extension": ".py",
   "mimetype": "text/x-python",
   "name": "python",
   "nbconvert_exporter": "python",
   "pygments_lexer": "ipython3",
   "version": "3.9.16"
  }
 },
 "nbformat": 4,
 "nbformat_minor": 5
}
